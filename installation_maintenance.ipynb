{
 "cells": [
  {
   "cell_type": "markdown",
   "metadata": {},
   "source": [
    "# Redmine sur kubernetes OVH"
   ]
  },
  {
   "cell_type": "markdown",
   "metadata": {
    "toc": true
   },
   "source": [
    "<h1>Table of Contents<span class=\"tocSkip\"></span></h1>\n",
    "<div class=\"toc\"><ul class=\"toc-item\"><li><span><a href=\"#Redmine\" data-toc-modified-id=\"Redmine-1\"><span class=\"toc-item-num\">1&nbsp;&nbsp;</span>Redmine</a></span></li><li><span><a href=\"#OVH\" data-toc-modified-id=\"OVH-2\"><span class=\"toc-item-num\">2&nbsp;&nbsp;</span>OVH</a></span></li><li><span><a href=\"#Kubernetes\" data-toc-modified-id=\"Kubernetes-3\"><span class=\"toc-item-num\">3&nbsp;&nbsp;</span>Kubernetes</a></span><ul class=\"toc-item\"><li><span><a href=\"#CLI-=-kubectl\" data-toc-modified-id=\"CLI-=-kubectl-3.1\"><span class=\"toc-item-num\">3.1&nbsp;&nbsp;</span>CLI = kubectl</a></span></li><li><span><a href=\"#Installer-et-configurer-kubectl-sur-Windows-avec-Chocolatey\" data-toc-modified-id=\"Installer-et-configurer-kubectl-sur-Windows-avec-Chocolatey-3.2\"><span class=\"toc-item-num\">3.2&nbsp;&nbsp;</span>Installer et configurer kubectl sur Windows avec Chocolatey</a></span><ul class=\"toc-item\"><li><span><a href=\"#Vérification-de-la-configuration-de-kubectl\" data-toc-modified-id=\"Vérification-de-la-configuration-de-kubectl-3.2.1\"><span class=\"toc-item-num\">3.2.1&nbsp;&nbsp;</span>Vérification de la configuration de kubectl</a></span></li></ul></li></ul></li><li><span><a href=\"#HELM\" data-toc-modified-id=\"HELM-4\"><span class=\"toc-item-num\">4&nbsp;&nbsp;</span>HELM</a></span><ul class=\"toc-item\"><li><span><a href=\"#Install-HELM\" data-toc-modified-id=\"Install-HELM-4.1\"><span class=\"toc-item-num\">4.1&nbsp;&nbsp;</span>Install HELM</a></span></li><li><span><a href=\"#Upgrade-HELM\" data-toc-modified-id=\"Upgrade-HELM-4.2\"><span class=\"toc-item-num\">4.2&nbsp;&nbsp;</span>Upgrade HELM</a></span></li><li><span><a href=\"#Install-Redmine\" data-toc-modified-id=\"Install-Redmine-4.3\"><span class=\"toc-item-num\">4.3&nbsp;&nbsp;</span>Install Redmine</a></span></li><li><span><a href=\"#Upgrade-Redmine\" data-toc-modified-id=\"Upgrade-Redmine-4.4\"><span class=\"toc-item-num\">4.4&nbsp;&nbsp;</span>Upgrade Redmine</a></span></li></ul></li><li><span><a href=\"#full-backup\" data-toc-modified-id=\"full-backup-5\"><span class=\"toc-item-num\">5&nbsp;&nbsp;</span>full backup</a></span></li><li><span><a href=\"#Redmine-Plugins\" data-toc-modified-id=\"Redmine-Plugins-6\"><span class=\"toc-item-num\">6&nbsp;&nbsp;</span>Redmine Plugins</a></span></li><li><span><a href=\"#Kubernetes-Dashboard\" data-toc-modified-id=\"Kubernetes-Dashboard-7\"><span class=\"toc-item-num\">7&nbsp;&nbsp;</span>Kubernetes Dashboard</a></span><ul class=\"toc-item\"><li><span><a href=\"#Accès\" data-toc-modified-id=\"Accès-7.1\"><span class=\"toc-item-num\">7.1&nbsp;&nbsp;</span>Accès</a></span></li><li><span><a href=\"#Installation\" data-toc-modified-id=\"Installation-7.2\"><span class=\"toc-item-num\">7.2&nbsp;&nbsp;</span>Installation</a></span></li></ul></li><li><span><a href=\"#A-étudier\" data-toc-modified-id=\"A-étudier-8\"><span class=\"toc-item-num\">8&nbsp;&nbsp;</span>A étudier</a></span></li></ul></div>"
   ]
  },
  {
   "cell_type": "markdown",
   "metadata": {},
   "source": [
    "## Redmine"
   ]
  },
  {
   "cell_type": "markdown",
   "metadata": {},
   "source": [
    "gestion de projets complète en mode web,"
   ]
  },
  {
   "cell_type": "code",
   "execution_count": null,
   "metadata": {},
   "outputs": [],
   "source": []
  },
  {
   "cell_type": "markdown",
   "metadata": {},
   "source": [
    "## OVH"
   ]
  },
  {
   "cell_type": "markdown",
   "metadata": {},
   "source": [
    "https://www.ovh.com/manager/public-cloud/index.html"
   ]
  },
  {
   "cell_type": "markdown",
   "metadata": {},
   "source": [
    "## Kubernetes"
   ]
  },
  {
   "cell_type": "markdown",
   "metadata": {},
   "source": []
  },
  {
   "cell_type": "markdown",
   "metadata": {},
   "source": [
    "### CLI = kubectl"
   ]
  },
  {
   "cell_type": "markdown",
   "metadata": {},
   "source": [
    "kubectl est l’outil en ligne de commande de kubernetes\n",
    "* exécuter des commandes dans les clusters Kubernetes\n",
    "* déployer des applications, \n",
    "* inspecter et gérer les ressources du cluster\n",
    "* consulter les logs\n",
    "\n",
    "https://kubernetes.io/fr/docs/reference/kubectl/overview/"
   ]
  },
  {
   "cell_type": "markdown",
   "metadata": {},
   "source": [
    "kubectl version"
   ]
  },
  {
   "cell_type": "markdown",
   "metadata": {},
   "source": [
    "### Installer et configurer kubectl sur Windows avec Chocolatey"
   ]
  },
  {
   "cell_type": "markdown",
   "metadata": {},
   "source": [
    "```powershell\n",
    "choco upgrade chocolatey```"
   ]
  },
  {
   "cell_type": "markdown",
   "metadata": {},
   "source": [
    "```powershell\n",
    "choco install kubernetes-cli```"
   ]
  },
  {
   "cell_type": "markdown",
   "metadata": {},
   "source": [
    "```powershell\n",
    "kubectl version```"
   ]
  },
  {
   "cell_type": "markdown",
   "metadata": {},
   "source": [
    "Accédez à votre répertoire personnel"
   ]
  },
  {
   "cell_type": "markdown",
   "metadata": {},
   "source": [
    "```powershell\n",
    "cd ~\n",
    "```"
   ]
  },
  {
   "cell_type": "markdown",
   "metadata": {},
   "source": [
    "Créez le répertoire .kube:"
   ]
  },
  {
   "cell_type": "markdown",
   "metadata": {},
   "source": [
    "```powershell\n",
    "mkdir .kube\n",
    "```"
   ]
  },
  {
   "cell_type": "markdown",
   "metadata": {},
   "source": [
    "```powershell\n",
    "cd .kube\n",
    "```"
   ]
  },
  {
   "cell_type": "markdown",
   "metadata": {},
   "source": [
    "Téléchargez et collez le fichier de configuration kubectl accessible depuis l'interface de gestion de Kubernetes d'OVH\n",
    "\n",
    "Le fichier se nomme : kubeconfig.yml"
   ]
  },
  {
   "cell_type": "markdown",
   "metadata": {},
   "source": [
    "le renommer en \"config\""
   ]
  },
  {
   "cell_type": "markdown",
   "metadata": {},
   "source": [
    "#### Vérification de la configuration de kubectl"
   ]
  },
  {
   "cell_type": "markdown",
   "metadata": {},
   "source": [
    "```powershell\n",
    "kubectl cluster-info\n",
    "```"
   ]
  },
  {
   "cell_type": "markdown",
   "metadata": {},
   "source": [
    "```powershell\n",
    "kubectl cluster-info dump```"
   ]
  },
  {
   "cell_type": "markdown",
   "metadata": {},
   "source": [
    "* https://docs.ovh.com/gb/en/kubernetes/configuring-kubectl/\n",
    "* https://kubernetes.io/fr/docs/tasks/tools/install-kubectl/"
   ]
  },
  {
   "cell_type": "code",
   "execution_count": null,
   "metadata": {},
   "outputs": [],
   "source": [
    "kubectl get deployments"
   ]
  },
  {
   "cell_type": "code",
   "execution_count": null,
   "metadata": {},
   "outputs": [],
   "source": [
    "kubectl get services"
   ]
  },
  {
   "cell_type": "code",
   "execution_count": null,
   "metadata": {},
   "outputs": [],
   "source": [
    "kubectl get secrets"
   ]
  },
  {
   "cell_type": "code",
   "execution_count": null,
   "metadata": {},
   "outputs": [],
   "source": [
    "kubectl config get-contexts"
   ]
  },
  {
   "cell_type": "code",
   "execution_count": null,
   "metadata": {},
   "outputs": [],
   "source": [
    "kubectl describe pod redmine"
   ]
  },
  {
   "cell_type": "code",
   "execution_count": null,
   "metadata": {},
   "outputs": [],
   "source": []
  },
  {
   "cell_type": "code",
   "execution_count": null,
   "metadata": {},
   "outputs": [],
   "source": [
    "kubectl config set-context <Your context>"
   ]
  },
  {
   "cell_type": "code",
   "execution_count": null,
   "metadata": {},
   "outputs": [],
   "source": [
    "kubectl config view"
   ]
  },
  {
   "cell_type": "code",
   "execution_count": null,
   "metadata": {},
   "outputs": [],
   "source": [
    "kubectl apply -f "
   ]
  },
  {
   "cell_type": "code",
   "execution_count": null,
   "metadata": {},
   "outputs": [],
   "source": [
    "kubectl config current-context"
   ]
  },
  {
   "cell_type": "markdown",
   "metadata": {},
   "source": [
    "## HELM"
   ]
  },
  {
   "cell_type": "markdown",
   "metadata": {},
   "source": [
    "package manager for Kubernetes"
   ]
  },
  {
   "cell_type": "markdown",
   "metadata": {},
   "source": [
    "https://helm.sh/"
   ]
  },
  {
   "cell_type": "markdown",
   "metadata": {},
   "source": [
    "### Install HELM"
   ]
  },
  {
   "cell_type": "code",
   "execution_count": null,
   "metadata": {},
   "outputs": [],
   "source": [
    "choco install kubernetes-helm"
   ]
  },
  {
   "cell_type": "markdown",
   "metadata": {},
   "source": [
    "### Upgrade HELM"
   ]
  },
  {
   "cell_type": "markdown",
   "metadata": {},
   "source": [
    "helm version"
   ]
  },
  {
   "cell_type": "markdown",
   "metadata": {},
   "source": [
    "### Install Redmine"
   ]
  },
  {
   "cell_type": "code",
   "execution_count": null,
   "metadata": {},
   "outputs": [],
   "source": [
    "helm install stable/redmine"
   ]
  },
  {
   "cell_type": "markdown",
   "metadata": {},
   "source": [
    "https://github.com/helm/charts/tree/master/stable/redmine\n",
    "https://github.com/bitnami/charts/tree/master/upstreamed/redmine/#installing-the-chart"
   ]
  },
  {
   "cell_type": "markdown",
   "metadata": {},
   "source": [
    "### Upgrade Redmine"
   ]
  },
  {
   "cell_type": "markdown",
   "metadata": {},
   "source": [
    "https://docs.bitnami.com/installer/apps/redmine/administration/upgrade/\n"
   ]
  },
  {
   "cell_type": "markdown",
   "metadata": {},
   "source": [
    "## full backup "
   ]
  },
  {
   "cell_type": "markdown",
   "metadata": {},
   "source": [
    "Installation Stateless ?"
   ]
  },
  {
   "cell_type": "markdown",
   "metadata": {},
   "source": [
    " Redmine data and configurations at the /bitnami/redmine path of the container (https://github.com/helm/charts/tree/master/stable/redmine)"
   ]
  },
  {
   "cell_type": "markdown",
   "metadata": {},
   "source": [
    "https://www.objectif-libre.com/fr/blog/2020/01/10/kubernetes-sauvegarder-ses-applications-stateful/"
   ]
  },
  {
   "cell_type": "markdown",
   "metadata": {},
   "source": [
    "https://www.redmine.org/projects/redmine/wiki/RedmineBackupRestore"
   ]
  },
  {
   "cell_type": "markdown",
   "metadata": {},
   "source": [
    "## Redmine Plugins"
   ]
  },
  {
   "cell_type": "markdown",
   "metadata": {},
   "source": [
    "\n",
    "Adding Plugins to the Redmine Helm Chart\n"
   ]
  },
  {
   "cell_type": "markdown",
   "metadata": {},
   "source": [
    "https://github.com/bitnami/charts/issues/1380\n",
    "https://github.com/bitnami/bitnami-docker-redmine/issues/115#issuecomment-468231005\n",
    "https://github.com/helm/charts/issues/12368\n",
    "https://docs.bitnami.com/installer/apps/redmine/configuration/install-plugins/"
   ]
  },
  {
   "cell_type": "markdown",
   "metadata": {},
   "source": [
    "compatible with your Redmine version"
   ]
  },
  {
   "cell_type": "markdown",
   "metadata": {},
   "source": [
    "## Kubernetes Dashboard"
   ]
  },
  {
   "cell_type": "markdown",
   "metadata": {},
   "source": [
    "### Accès"
   ]
  },
  {
   "cell_type": "markdown",
   "metadata": {},
   "source": [
    "kubectl proxy"
   ]
  },
  {
   "cell_type": "markdown",
   "metadata": {},
   "source": [
    "http://localhost:8001/api/v1/namespaces/kubernetes-dashboard/services/https:kubernetes-dashboard:/proxy/"
   ]
  },
  {
   "cell_type": "markdown",
   "metadata": {},
   "source": [
    "Saisir le tocken"
   ]
  },
  {
   "cell_type": "markdown",
   "metadata": {},
   "source": [
    "### Installation"
   ]
  },
  {
   "cell_type": "markdown",
   "metadata": {},
   "source": [
    "RBAC"
   ]
  },
  {
   "cell_type": "markdown",
   "metadata": {},
   "source": [
    "https://docs.ovh.com/gb/en/kubernetes/installing-kubernetes-dashboard/"
   ]
  },
  {
   "cell_type": "markdown",
   "metadata": {},
   "source": [
    "## A étudier"
   ]
  },
  {
   "cell_type": "markdown",
   "metadata": {},
   "source": [
    "* https://kubeapps.com/"
   ]
  },
  {
   "cell_type": "code",
   "execution_count": null,
   "metadata": {},
   "outputs": [],
   "source": []
  }
 ],
 "metadata": {
  "kernelspec": {
   "display_name": "Python 3",
   "language": "python",
   "name": "python3"
  },
  "language_info": {
   "codemirror_mode": {
    "name": "ipython",
    "version": 3
   },
   "file_extension": ".py",
   "mimetype": "text/x-python",
   "name": "python",
   "nbconvert_exporter": "python",
   "pygments_lexer": "ipython3",
   "version": "3.7.6"
  },
  "toc": {
   "base_numbering": 1,
   "nav_menu": {},
   "number_sections": true,
   "sideBar": true,
   "skip_h1_title": true,
   "title_cell": "Table of Contents",
   "title_sidebar": "Contents",
   "toc_cell": true,
   "toc_position": {},
   "toc_section_display": true,
   "toc_window_display": true
  }
 },
 "nbformat": 4,
 "nbformat_minor": 4
}
